{
  "nbformat": 4,
  "nbformat_minor": 0,
  "metadata": {
    "colab": {
      "provenance": []
    },
    "kernelspec": {
      "name": "python3",
      "display_name": "Python 3"
    },
    "language_info": {
      "name": "python"
    }
  },
  "cells": [
    {
      "cell_type": "markdown",
      "source": [
        "# 1.What is Python, and why is it popular?\n",
        "-> Python is a high-level, interpreted programming language known for its simplicity, readability, and wide range of libraries. It is popular due to its versatility, community support, and ease of learning.\n",
        "\n",
        "# 2.What is an interpreter in Python?\n",
        "-> An interpreter executes Python code line by line, converting it into machine code at runtime.\n",
        "\n",
        "# 3.What are pre-defined keywords in Python?\n",
        "-> Keywords are reserved words that have special meaning in Python, such as if, else, for, while, def, etc.\n",
        "\n",
        "# 4.Can keywords be used as variable names?\n",
        "-> No, keywords cannot be used as variable names.\n",
        "\n",
        "# 5.What is mutability in Python?\n",
        "->Mutability refers to the ability of an object to be changed after its creation.\n",
        "\n",
        "# 6.Why are lists mutable, but tuples are immutable?\n",
        "-> Lists are designed to be modified (add/remove/change items), while tuples are fixed and used when data should remain constant.\n",
        "\n",
        "# 7.What is the difference between “==” and “is” operators in Python?\n",
        "-> == checks for value equality, while is checks for identity (whether two references point to the same object in memory).\n",
        "\n",
        "# 8.What are logical operators in Python?\n",
        "-> and, or, and not are logical operators used to combine conditional statements.\n",
        "\n",
        "# 9.What is type casting in Python?\n",
        "-> Type casting converts one data type into another, like from str to int.\n",
        "\n",
        "#10.What is the difference between implicit and explicit type casting?\n",
        "\n",
        "-> Implicit: Done automatically by Python (e.g., int to float in an expression).\n",
        "\n",
        "-> Explicit: Done manually using functions like int(), float(), etc.\n",
        "\n",
        "# 11.What is the purpose of conditional statements in Python?\n",
        "-> To make decisions in code based on certain conditions (if, elif, else).\n",
        "\n",
        "# 12.How does the elif statement work?\n",
        "-> elif stands for \"else if\", and it checks another condition if the previous if was False.\n",
        "\n",
        "# 13.What is the difference between for and while loops?\n",
        "\n",
        "-> for: Used when the number of iterations is known.\n",
        "\n",
        "-> while: Used when the loop runs based on a condition.\n",
        "\n",
        "# 14.Describe a scenario where a while loop is more suitable than a for loop.\n",
        "\n",
        "->A while loop is more suitable than a for loop when you don't know in advance how many times the loop needs to run — that is, when the loop should continue until a certain condition is met rather than for a fixed number of iterations..\n"
      ],
      "metadata": {
        "id": "uoowsvK8JuBo"
      }
    },
    {
      "cell_type": "code",
      "execution_count": 2,
      "metadata": {
        "colab": {
          "base_uri": "https://localhost:8080/"
        },
        "id": "MVH581KRJeBM",
        "outputId": "259c838f-ee98-4ed8-e13d-f848a32e4c66"
      },
      "outputs": [
        {
          "output_type": "stream",
          "name": "stdout",
          "text": [
            "Hello, World!y\n"
          ]
        }
      ],
      "source": [
        "# 1.Write a Python program to print \"Hello, World!y\n",
        "print(\"Hello, World!y\")"
      ]
    },
    {
      "cell_type": "code",
      "source": [
        "# 2.Write a Python program that displays your name and age\n",
        "name=\"vikash\"\n",
        "age=20\n",
        "print(name)\n",
        "print(age)\n"
      ],
      "metadata": {
        "colab": {
          "base_uri": "https://localhost:8080/"
        },
        "id": "7iShJN9CMLtr",
        "outputId": "0fa9b8b0-5c64-4f59-911b-ed9942c20856"
      },
      "execution_count": 5,
      "outputs": [
        {
          "output_type": "stream",
          "name": "stdout",
          "text": [
            "vikash\n",
            "20\n"
          ]
        }
      ]
    },
    {
      "cell_type": "code",
      "source": [
        "# 3.Write code to print all the pre-defined keywords in Python using the keyword library\n",
        "help('keywords')"
      ],
      "metadata": {
        "colab": {
          "base_uri": "https://localhost:8080/"
        },
        "id": "HFeAs3rxMsO3",
        "outputId": "b81d5f88-d322-4b2e-e336-3b8fa6258f93"
      },
      "execution_count": 8,
      "outputs": [
        {
          "output_type": "stream",
          "name": "stdout",
          "text": [
            "\n",
            "Here is a list of the Python keywords.  Enter any keyword to get more help.\n",
            "\n",
            "False               class               from                or\n",
            "None                continue            global              pass\n",
            "True                def                 if                  raise\n",
            "and                 del                 import              return\n",
            "as                  elif                in                  try\n",
            "assert              else                is                  while\n",
            "async               except              lambda              with\n",
            "await               finally             nonlocal            yield\n",
            "break               for                 not                 \n",
            "\n"
          ]
        }
      ]
    },
    {
      "cell_type": "code",
      "source": [
        "# 4.Write a program that checks if a given word is a Python keyword.\n",
        "import keyword\n",
        "word=input(\"enter a word\")\n",
        "print(keyword.iskeyword(word))"
      ],
      "metadata": {
        "colab": {
          "base_uri": "https://localhost:8080/"
        },
        "id": "3SvG8iztNMq6",
        "outputId": "78aeea68-7174-4a57-e1f2-21fa23b2526e"
      },
      "execution_count": 11,
      "outputs": [
        {
          "output_type": "stream",
          "name": "stdout",
          "text": [
            "enter a wordhjdjhd\n",
            "False\n"
          ]
        }
      ]
    },
    {
      "cell_type": "code",
      "source": [
        "# 5.Create a list and tuple in Python, and demonstrate how attempting to change an element works differently\n",
        "#for each.\n",
        "my_list = [1, 2, 3]\n",
        "my_tuple = (1, 2, 3)\n",
        "\n",
        "my_list[0] = 10  # Works\n",
        "\n",
        "try:\n",
        "    my_tuple[0] = 10  # Error\n",
        "except TypeError:\n",
        "    print(\"Tuples are immutable\")\n"
      ],
      "metadata": {
        "colab": {
          "base_uri": "https://localhost:8080/"
        },
        "id": "pMG2f5RdOIue",
        "outputId": "b108f0f4-4a90-4220-92f5-a76e645df8df"
      },
      "execution_count": 12,
      "outputs": [
        {
          "output_type": "stream",
          "name": "stdout",
          "text": [
            "Tuples are immutable\n"
          ]
        }
      ]
    },
    {
      "cell_type": "code",
      "source": [
        "# 6. Write a function to demonstrate the behavior of mutable and immutable arguments.\n",
        "def modify(x, y):\n",
        "    x += 1\n",
        "    y.append(4)\n",
        "    print(\"Inside function:\", x, y)\n",
        "\n",
        "a = 5\n",
        "b = [1, 2, 3]\n",
        "modify(a, b)\n",
        "print(\"Outside function:\", a, b)\n"
      ],
      "metadata": {
        "colab": {
          "base_uri": "https://localhost:8080/"
        },
        "id": "E5q4IeBJPA24",
        "outputId": "ec754804-ccaa-41c0-a6b4-6c76cc6b4101"
      },
      "execution_count": 13,
      "outputs": [
        {
          "output_type": "stream",
          "name": "stdout",
          "text": [
            "Inside function: 6 [1, 2, 3, 4]\n",
            "Outside function: 5 [1, 2, 3, 4]\n"
          ]
        }
      ]
    },
    {
      "cell_type": "code",
      "source": [
        "# 7.Write a program that performs basic arithmetic operations on two user-input numbers.\n",
        "a = int(input(\"Enter first number: \"))\n",
        "b = int(input(\"Enter second number: \"))\n",
        "print(\"Sum:\", a + b)\n",
        "print(\"Difference:\", a - b)\n",
        "print(\"Product:\", a * b)\n",
        "print(\"Quotient:\", a / b)\n"
      ],
      "metadata": {
        "colab": {
          "base_uri": "https://localhost:8080/"
        },
        "id": "QmesEIoaPPZR",
        "outputId": "704004b4-282e-4247-d7af-384a47d03f01"
      },
      "execution_count": 14,
      "outputs": [
        {
          "output_type": "stream",
          "name": "stdout",
          "text": [
            "Enter first number: 10\n",
            "Enter second number: 5\n",
            "Sum: 15\n",
            "Difference: 5\n",
            "Product: 50\n",
            "Quotient: 2.0\n"
          ]
        }
      ]
    },
    {
      "cell_type": "code",
      "source": [
        "# 8.Write a program to demonstrate the use of logical operators.\n",
        "a = True\n",
        "b = False\n",
        "print(\"a and b:\", a and b)\n",
        "print(\"a or b:\", a or b)\n",
        "print(\"not a:\", not a)\n"
      ],
      "metadata": {
        "colab": {
          "base_uri": "https://localhost:8080/"
        },
        "id": "fwlXBcTpPbPh",
        "outputId": "d591a02f-083f-4a7d-ac51-0f4aac548e09"
      },
      "execution_count": 15,
      "outputs": [
        {
          "output_type": "stream",
          "name": "stdout",
          "text": [
            "a and b: False\n",
            "a or b: True\n",
            "not a: False\n"
          ]
        }
      ]
    },
    {
      "cell_type": "code",
      "source": [
        "# 9.Write a Python program to convert user input from string to integer, float, and boolean types.\n",
        "s = input(\"Enter a number: \")\n",
        "print(\"Integer:\", int(s))\n",
        "print(\"Float:\", float(s))\n",
        "print(\"Boolean:\", bool(s))\n"
      ],
      "metadata": {
        "colab": {
          "base_uri": "https://localhost:8080/"
        },
        "id": "oW9SXMaMPtiF",
        "outputId": "6ba48d1f-ab06-43b7-c9e9-e7c2d1582f15"
      },
      "execution_count": 16,
      "outputs": [
        {
          "output_type": "stream",
          "name": "stdout",
          "text": [
            "Enter a number: 15\n",
            "Integer: 15\n",
            "Float: 15.0\n",
            "Boolean: True\n"
          ]
        }
      ]
    },
    {
      "cell_type": "code",
      "source": [
        "# 10.Write code to demonstrate type casting with list elements\n",
        "str_list = ['1', '2', '3']\n",
        "int_list = list(map(int, str_list))\n",
        "print(int_list)\n"
      ],
      "metadata": {
        "colab": {
          "base_uri": "https://localhost:8080/"
        },
        "id": "XeqXoAxlQChp",
        "outputId": "815f4b64-3884-4f23-9e66-2587e112d7ad"
      },
      "execution_count": 17,
      "outputs": [
        {
          "output_type": "stream",
          "name": "stdout",
          "text": [
            "[1, 2, 3]\n"
          ]
        }
      ]
    },
    {
      "cell_type": "code",
      "source": [
        "# 11.Write a program that checks if a number is positive, negative, or zero.\n",
        "n=int(input(\"enter a number:\"))\n",
        "if n>0:\n",
        "  print(\"positive\")\n",
        "elif n<0:\n",
        "  print(\"negative\")\n",
        "else:\n",
        "  print(\"zero\")"
      ],
      "metadata": {
        "colab": {
          "base_uri": "https://localhost:8080/"
        },
        "id": "F4Hvh7gHQOz_",
        "outputId": "89b72b98-5c0a-4a72-ee4c-0cd1206b480c"
      },
      "execution_count": 18,
      "outputs": [
        {
          "output_type": "stream",
          "name": "stdout",
          "text": [
            "enter a number:10\n",
            "positive\n"
          ]
        }
      ]
    },
    {
      "cell_type": "code",
      "source": [
        "# 12.Write a for loop to print numbers from 1 to 10.\n",
        "for i in range(1,11):\n",
        "  print(i)"
      ],
      "metadata": {
        "colab": {
          "base_uri": "https://localhost:8080/"
        },
        "id": "R1MXA3FOQ2GN",
        "outputId": "0374338f-54c7-4b80-afb9-b44dcb95bfe6"
      },
      "execution_count": 21,
      "outputs": [
        {
          "output_type": "stream",
          "name": "stdout",
          "text": [
            "1\n",
            "2\n",
            "3\n",
            "4\n",
            "5\n",
            "6\n",
            "7\n",
            "8\n",
            "9\n",
            "10\n"
          ]
        }
      ]
    },
    {
      "cell_type": "code",
      "source": [
        "# 13. Write a Python program to find the sum of all even numbers between 1 and 50.\n",
        "sum=0\n",
        "for i in range(1,51,2):\n",
        "  sum+=i\n",
        "  print(\"sum of even num:\",sum)"
      ],
      "metadata": {
        "colab": {
          "base_uri": "https://localhost:8080/"
        },
        "id": "Z6qPh86gRNRd",
        "outputId": "46a900f1-643d-4ccb-dcd8-58f92bba91e2"
      },
      "execution_count": 22,
      "outputs": [
        {
          "output_type": "stream",
          "name": "stdout",
          "text": [
            "sum of even num: 1\n",
            "sum of even num: 4\n",
            "sum of even num: 9\n",
            "sum of even num: 16\n",
            "sum of even num: 25\n",
            "sum of even num: 36\n",
            "sum of even num: 49\n",
            "sum of even num: 64\n",
            "sum of even num: 81\n",
            "sum of even num: 100\n",
            "sum of even num: 121\n",
            "sum of even num: 144\n",
            "sum of even num: 169\n",
            "sum of even num: 196\n",
            "sum of even num: 225\n",
            "sum of even num: 256\n",
            "sum of even num: 289\n",
            "sum of even num: 324\n",
            "sum of even num: 361\n",
            "sum of even num: 400\n",
            "sum of even num: 441\n",
            "sum of even num: 484\n",
            "sum of even num: 529\n",
            "sum of even num: 576\n",
            "sum of even num: 625\n"
          ]
        }
      ]
    },
    {
      "cell_type": "code",
      "source": [
        "# 14.Write a program to reverse a string using a while loop.\n",
        "s = input(\"Enter string: \")\n",
        "i = len(s) - 1\n",
        "rev = \"\"\n",
        "while i >= 0:\n",
        "    rev += s[i]\n",
        "    i -= 1\n",
        "print(\"Reversed string:\", rev)\n"
      ],
      "metadata": {
        "colab": {
          "base_uri": "https://localhost:8080/"
        },
        "id": "6oxpP7xJSfgv",
        "outputId": "a20a2d8c-8ed9-4317-b6fb-5e848665013c"
      },
      "execution_count": 23,
      "outputs": [
        {
          "output_type": "stream",
          "name": "stdout",
          "text": [
            "Enter string: vikash\n",
            "Reversed string: hsakiv\n"
          ]
        }
      ]
    },
    {
      "cell_type": "code",
      "source": [
        "# 15. Write a Python program to calculate the factorial of a number provided by the user using a while loop.\n",
        "n=int(input(\"enter a num:\"))\n",
        "fact=1\n",
        "while n > 0:\n",
        "  fact=fact*n\n",
        "  n=n-1\n",
        "print(\"factorial:\",fact)"
      ],
      "metadata": {
        "colab": {
          "base_uri": "https://localhost:8080/"
        },
        "id": "QYgJ40eKSwTg",
        "outputId": "5be8e848-cc7d-46d7-c05e-9c665511fc9e"
      },
      "execution_count": 25,
      "outputs": [
        {
          "output_type": "stream",
          "name": "stdout",
          "text": [
            "enter a num:4\n",
            "factorial: 24\n"
          ]
        }
      ]
    },
    {
      "cell_type": "code",
      "source": [],
      "metadata": {
        "id": "eUSAP0dpTezP"
      },
      "execution_count": null,
      "outputs": []
    }
  ]
}
